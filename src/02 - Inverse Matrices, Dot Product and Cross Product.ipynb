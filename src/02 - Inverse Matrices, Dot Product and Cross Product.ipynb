{
 "cells": [
  {
   "cell_type": "markdown",
   "id": "28f5f465-680e-4ac2-80dc-afe346ebd98e",
   "metadata": {},
   "source": [
    "<center>    \n",
    "    <h1 id='linear-algebra-notebook-1' style='color:#7159c1; font-size:350%'>Inverse Matrices, Dot Product and Cross Product</h1>\n",
    "    <i style='font-size:125%'>Basics of Vectors</i>\n",
    "</center>\n",
    "\n",
    "> **Topics**\n",
    "\n",
    "```\n",
    "- 🌌 Inverse Matrices and Column Space\n",
    "- 🌊 Dot Product and Projections\n",
    "- ❌ Cross Product\n",
    "```"
   ]
  },
  {
   "cell_type": "code",
   "execution_count": 1,
   "id": "da783a3c-a02e-4bdf-b4e0-aadb7a9896df",
   "metadata": {},
   "outputs": [],
   "source": [
    "# ---- Imports ----\n",
    "import numpy as np\n",
    "from IPython.display import HTML\n",
    "\n",
    "# ---- Constants ----\n",
    "VIDEOS_WIDTH = (600)\n",
    "VIDEOS_PATH = ('./videos')\n",
    "\n",
    "# ---- Functions ----\n",
    "def generateVideoEmbed(path, width):\n",
    "    \"\"\"\n",
    "    Generates a string containing a centered video tag with a specific width and video source.\n",
    "\n",
    "    - Input:\n",
    "        / path: string;\n",
    "        / width: float.\n",
    "\n",
    "    - Output:\n",
    "        / video_tag: string.\n",
    "    \"\"\"\n",
    "    video_tag = f'<center><video width=\"{width}\" autoplay controls loop><source src=\"{path}\" type=\"video/mp4\" />Your browser does not support the video tag 😢</video></center>'\n",
    "    return video_tag"
   ]
  },
  {
   "cell_type": "markdown",
   "id": "3c33c048-4898-4541-ab17-6b34aa28cfb0",
   "metadata": {},
   "source": [
    "<h1 id='0-inverse-matrices-and-column-space' style='color:#7159c1; border-bottom:3px solid #7159c1; letter-spacing:2px; font-family:JetBrains Mono; font-weight: bold; text-align:left; font-size:240%;padding:0'>🌌 | Inverse Matrices and Column Space</h1>\n",
    "\n",
    "When a vector suffers a Linear Transformation (A), we can express it in the following way:\n",
    "\n",
    "$$\n",
    "\\mathbf{A} \\cdot \\vec{v} = \\vec{w}\n",
    "$$\n",
    "\n",
    "In order to get vector $\\vec{v}$ back from $\\vec{w}$, we must multiply this last one by the Inverse Matrix ($\\mathbf{A}^{-1}$) of the Linear Transformation, so:\n",
    "\n",
    "$$\n",
    "\\mathbf{A}^{-1} \\cdot \\vec{w} = \\vec{v}\n",
    "$$\n",
    "\n",
    "With this, we can get the original vector back-and-forth through Linear and Inverse Linear Transformations!!"
   ]
  },
  {
   "cell_type": "code",
   "execution_count": 2,
   "id": "aa3e4509-898d-438c-902c-4dac934b4f09",
   "metadata": {},
   "outputs": [
    {
     "data": {
      "text/html": [
       "<center><video width=\"600\" autoplay controls loop><source src=\"./videos/08-TransformationAndInverseTransformation.mp4\" type=\"video/mp4\" />Your browser does not support the video tag 😢</video></center>"
      ],
      "text/plain": [
       "<IPython.core.display.HTML object>"
      ]
     },
     "execution_count": 2,
     "metadata": {},
     "output_type": "execute_result"
    }
   ],
   "source": [
    "# ---- Transformation and Inverse Transformation ----\n",
    "HTML(generateVideoEmbed(f'{VIDEOS_PATH}/08-TransformationAndInverseTransformation.mp4', VIDEOS_WIDTH))"
   ]
  },
  {
   "cell_type": "markdown",
   "id": "6bc76a84-397d-4805-9491-f5adf044b222",
   "metadata": {},
   "source": [
    "---\n",
    "\n",
    "When we apply an inverse transformation and then a transformation, we get the original vector/matrix as the result. This matrix is called `Identity Matrix`.\n",
    "\n",
    "Besides, when the determinant of the Linear Transformation is 0, that is $\\det(\\mathbf{A}) = 0$, there is no inverse matrix ($\\mathbf{A}^{-1}$) and it's not possible to undo $\\vec{w}$ back to $\\vec{v}$ transformation.\n",
    "\n",
    "Oh, and the set of all possible outputs from $\\mathbf{A} \\cdot \\vec{v}$ is called `Column Space` of A."
   ]
  },
  {
   "cell_type": "markdown",
   "id": "0863511a-fa1e-4481-9771-1b111cbd3205",
   "metadata": {},
   "source": [
    "<h1 id='1-dot-product-and-projections' style='color:#7159c1; border-bottom:3px solid #7159c1; letter-spacing:2px; font-family:JetBrains Mono; font-weight: bold; text-align:left; font-size:240%;padding:0'>🌊 | Dot Product and Projections</h1>\n",
    "\n",
    "`Dot Product` corresponds to the projection of a vector into another one and then scaled to this vector, that is:\n",
    "\n",
    "$$\n",
    "\\begin{array}{c}\n",
    "    \\vec{v} = \\begin{bmatrix} 4 \\\\ 1 \\end{bmatrix}\n",
    "    \\vec{w} = \\begin{bmatrix} 2 \\\\ -1 \\end{bmatrix}\\\\ \\\\\n",
    "    \\big\\downarrow\\\\ \\\\\n",
    "    \\vec{v} \\cdot \\vec{w} = 4 \\cdot 2 + 1 \\cdot -1 = 8 - 1 = 7\n",
    "\\end{array}\n",
    "$$\n",
    "\n",
    "Other way to calculate it is through the length of the vectors, like:\n",
    "\n",
    "$$\n",
    "\\begin{array}{c}\n",
    "    \\vec{v} \\cdot \\vec{w} = \\text{length of projected } \\vec{w} \\cdot \\text{length of } \\vec{v}\\\\\n",
    "    \\text{OR}\\\\\n",
    "    \\vec{v} \\cdot \\vec{w} = \\text{length of } \\vec{w} \\cdot \\text{length of projected } \\vec{v}\n",
    "\\end{array}\n",
    "$$\n",
    "\n",
    "And the Dot Product is negative when the vectors have opposite directions!!\n",
    "\n",
    "- **$\\vec{v} \\cdot \\vec{w} > 0$** - `the vectors have similar directions`;\n",
    "\n",
    "- **$\\vec{v} \\cdot \\vec{w} < 0$** - `the vectors have opposite directions`;\n",
    "\n",
    "- **$\\vec{v} \\cdot \\vec{w} = 0$** - `the vectors are perpendicular between them`."
   ]
  },
  {
   "cell_type": "code",
   "execution_count": 3,
   "id": "2422a286-1f3b-4a68-858c-6a898fdf49a3",
   "metadata": {},
   "outputs": [
    {
     "data": {
      "text/html": [
       "<center><video width=\"600\" autoplay controls loop><source src=\"./videos/09-VectorProjections.mp4\" type=\"video/mp4\" />Your browser does not support the video tag 😢</video></center>"
      ],
      "text/plain": [
       "<IPython.core.display.HTML object>"
      ]
     },
     "execution_count": 3,
     "metadata": {},
     "output_type": "execute_result"
    }
   ],
   "source": [
    "# ---- Vector Projections ----\n",
    "HTML(generateVideoEmbed(f'{VIDEOS_PATH}/09-VectorProjections.mp4', VIDEOS_WIDTH))"
   ]
  },
  {
   "cell_type": "markdown",
   "id": "ada1caf5-a4a9-433c-a6d5-5629dfb3ce2a",
   "metadata": {},
   "source": [
    "<h1 id='2-cross-product' style='color:#7159c1; border-bottom:3px solid #7159c1; letter-spacing:2px; font-family:JetBrains Mono; font-weight: bold; text-align:left; font-size:240%;padding:0'>❌ | Cross Product</h1>\n",
    "\n",
    "`Cross Product` tells the area of the parallelogram formed by the vectors in 3-Dimensional planes, besides, order matters, so $\\vec{v} \\times \\vec{w}$ is different of $\\vec{w} \\times \\vec{v}$.\n",
    "\n",
    "Taking $\\vec{v} \\times \\vec{w}$ as our example, the Cross Product result is negative when $\\vec{v}$ is on the left side of $\\vec{w}$, and positive when $\\vec{v}$ is on the right side. The animation below illustrates it (even though the animation is in a 2-Dimensional plane, consider it is in a 3-Dimensional one)."
   ]
  },
  {
   "cell_type": "code",
   "execution_count": 4,
   "id": "6de7476a-88c4-4850-a0c4-9aa6a9cadbe5",
   "metadata": {},
   "outputs": [
    {
     "data": {
      "text/html": [
       "<center><video width=\"600\" autoplay controls loop><source src=\"./videos/10-VectorCrossProduct.mp4\" type=\"video/mp4\" />Your browser does not support the video tag 😢</video></center>"
      ],
      "text/plain": [
       "<IPython.core.display.HTML object>"
      ]
     },
     "execution_count": 4,
     "metadata": {},
     "output_type": "execute_result"
    }
   ],
   "source": [
    "# ---- Cross Product ----\n",
    "HTML(generateVideoEmbed(f'{VIDEOS_PATH}/10-VectorCrossProduct.mp4', VIDEOS_WIDTH))"
   ]
  },
  {
   "cell_type": "markdown",
   "id": "a1a28dc3-9c54-4b7a-86ea-88e79c5ed848",
   "metadata": {},
   "source": [
    "## ---\n",
    "\n",
    "Cross Product is only applied to 3-Dimensional planes and the result is a vector, rather than a single number. It still calculates the area of the paralellogram, returning the vector perpendicular to this very parallelogram.\n",
    "\n",
    "Let's see how it's calculated between two vectors $\\vec{v} \\times \\vec{w}$:\n",
    "\n",
    "$$\n",
    "\\begin{array}{c}\n",
    "    \\begin{bmatrix}\\mathbf{v_1} \\\\ \\mathbf{v_2} \\\\ \\mathbf{v_3} \\end{bmatrix} \\times\n",
    "    \\begin{bmatrix}\\mathbf{w_1} \\\\ \\mathbf{w_2} \\\\ \\mathbf{w_3} \\end{bmatrix} =\n",
    "    \\begin{bmatrix}\n",
    "        \\mathbf{v_2} \\cdot \\mathbf{w_3} - \\mathbf{w_2} \\cdot \\mathbf{v_3} \\\\\n",
    "        \\mathbf{v_3} \\cdot \\mathbf{w_1} - \\mathbf{w_3} \\cdot \\mathbf{v_1} \\\\\n",
    "        \\mathbf{v_1} \\cdot \\mathbf{w_2} - \\mathbf{w_1} \\cdot \\mathbf{v_2}\n",
    "    \\end{bmatrix} \\\\ \\\\\n",
    "    OR \\\\ \\\\\n",
    "    \\begin{bmatrix}\\mathbf{v_1} \\\\ \\mathbf{v_2} \\\\ \\mathbf{v_3} \\end{bmatrix} \\times\n",
    "    \\begin{bmatrix}\\mathbf{w_1} \\\\ \\mathbf{w_2} \\\\ \\mathbf{w_3} \\end{bmatrix} =\n",
    "    \\det \\begin{bmatrix}\n",
    "        \\hat{i}, \\ \\mathbf{v_1}, \\ \\mathbf{w_1} \\\\\n",
    "        \\hat{j}, \\ \\mathbf{v_2}, \\ \\mathbf{w_2} \\\\\n",
    "        \\hat{k}, \\ \\mathbf{v_3}, \\ \\mathbf{w_3} \\\\\n",
    "    \\end{bmatrix} =\n",
    "    \\hat{i} \\cdot (\\mathbf{v_2} \\cdot \\mathbf{w_3} - \\mathbf{w_2} \\cdot \\mathbf{v_3}) +\n",
    "    \\hat{j} \\cdot (\\mathbf{v_3} \\cdot \\mathbf{w_1} - \\mathbf{w_3} \\cdot \\mathbf{v_1}) +\n",
    "    \\hat{k} \\cdot (\\mathbf{v_1} \\cdot \\mathbf{w_2} - \\mathbf{w_1} \\cdot \\mathbf{v_2})\n",
    "\\end{array}\n",
    "$$"
   ]
  },
  {
   "cell_type": "markdown",
   "id": "a6024e14-2d53-4d97-afef-f77edea04c5d",
   "metadata": {},
   "source": [
    "---\n",
    "\n",
    "<h1 id='reach-me' style='color:#7159c1; border-bottom:3px solid #7159c1; letter-spacing:2px; font-family:JetBrains Mono; font-weight: bold; text-align:left; font-size:240%;padding:0'>📫 | Reach Me</h1>\n",
    "\n",
    "> **Email** - [csfelix08@gmail.com](mailto:csfelix08@gmail.com?)\n",
    "\n",
    "> **Linkedin** - [linkedin.com/in/csfelix/](https://www.linkedin.com/in/csfelix/)\n",
    "\n",
    "> **GitHub:** - [CSFelix](https://github.com/CSFelix)\n",
    "\n",
    "> **Kaggle** - [DSFelix](https://www.kaggle.com/dsfelix)\n",
    "\n",
    "> **Portfolio** - [CSFelix.io](https://csfelix.github.io/)."
   ]
  }
 ],
 "metadata": {
  "kernelspec": {
   "display_name": "Python 3 (ipykernel)",
   "language": "python",
   "name": "python3"
  },
  "language_info": {
   "codemirror_mode": {
    "name": "ipython",
    "version": 3
   },
   "file_extension": ".py",
   "mimetype": "text/x-python",
   "name": "python",
   "nbconvert_exporter": "python",
   "pygments_lexer": "ipython3",
   "version": "3.12.7"
  }
 },
 "nbformat": 4,
 "nbformat_minor": 5
}
