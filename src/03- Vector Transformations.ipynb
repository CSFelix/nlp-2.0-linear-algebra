{
 "cells": [
  {
   "cell_type": "markdown",
   "id": "5b813695-9866-4a3a-933e-aefeecdfa073",
   "metadata": {},
   "source": [
    "<center>    \n",
    "    <h1 id='linear-algebra-notebook-3' style='color:#7159c1; font-size:350%'>Vector Transformations</h1>\n",
    "    <i style='font-size:125%'>Basics of Vectors</i>\n",
    "</center>\n",
    "\n",
    "> **Topics**\n",
    "\n",
    "```\n",
    "- 📏 Stretch\n",
    "- 📏 Squish\n",
    "- 🪙 Flip\n",
    "- 🐚 Shear\n",
    "- ⭕ Rotation\n",
    "- 🌌 Null\n",
    "- 🪞 Image\n",
    "- 🪟 Visualization\n",
    "```"
   ]
  },
  {
   "cell_type": "code",
   "execution_count": 4,
   "id": "86069fdf-044b-4686-982f-2b0cc2b216b1",
   "metadata": {},
   "outputs": [],
   "source": [
    "# ---- Imports ----\n",
    "import numpy as np\n",
    "from IPython.display import HTML\n",
    "\n",
    "# ---- Constants ----\n",
    "VECTOR = (np.array([2, 1]))\n",
    "VIDEOS_WIDTH = (600)\n",
    "VIDEOS_PATH = ('./videos')\n",
    "\n",
    "# ---- Functions ----\n",
    "def generateVideoEmbed(path, width):\n",
    "    \"\"\"\n",
    "    Generates a string containing a centered video tag with a specific width and video source.\n",
    "\n",
    "    - Input:\n",
    "        / path: string;\n",
    "        / width: float.\n",
    "\n",
    "    - Output:\n",
    "        / video_tag: string.\n",
    "    \"\"\"\n",
    "    video_tag = f'<center><video width=\"{width}\" autoplay controls loop><source src=\"{path}\" type=\"video/mp4\" />Your browser does not support the video tag 😢</video></center>'\n",
    "    return video_tag"
   ]
  },
  {
   "cell_type": "markdown",
   "id": "6e92248b-273f-40b2-bea3-46690ce04235",
   "metadata": {},
   "source": [
    "<h1 id='0-stretch' style='color:#7159c1; border-bottom:3px solid #7159c1; letter-spacing:2px; font-family:JetBrains Mono; font-weight: bold; text-align:left; font-size:240%;padding:0'>📏 | Stretch</h1>\n",
    "\n",
    "`Stretch` is a transformation where the x-axis and y-axis values of a vector are stretched through a matrix multiplication. For instance, consider a vector $\\vec{v}$ being stretched twice in both axis:\n",
    "\n",
    "$$\n",
    "\\begin{array}\n",
    "    \\vec{v} = \\begin{bmatrix} 2, \\ 1 \\end{bmatrix}\n",
    "    \\quad\n",
    "    \\text{strecth matrix} = \\begin{bmatrix} 2, \\ 0 \\\\ 0, \\ 2 \\end{bmatrix} \\\\\n",
    "    \\big\\downarrow \\\\\n",
    "    \\vec{v} \\cdot \\text{stretch matrix} = \\begin{bmatrix} 4, \\ 2 \\end{bmatrix}\n",
    "\\end{array}\n",
    "$$"
   ]
  },
  {
   "cell_type": "code",
   "execution_count": 5,
   "id": "99334fda-06f3-4b88-a000-8ceb28c3624d",
   "metadata": {},
   "outputs": [
    {
     "data": {
      "text/plain": [
       "array([4, 2])"
      ]
     },
     "execution_count": 5,
     "metadata": {},
     "output_type": "execute_result"
    }
   ],
   "source": [
    "# ----- Stretch ----\n",
    "stretch_matrix = np.array([[2, 0], [0, 2]])\n",
    "VECTOR @ stretch_matrix"
   ]
  },
  {
   "cell_type": "markdown",
   "id": "a779c53d-4ed9-408a-9dab-29c3586ff134",
   "metadata": {},
   "source": [
    "<h1 id='1-squish' style='color:#7159c1; border-bottom:3px solid #7159c1; letter-spacing:2px; font-family:JetBrains Mono; font-weight: bold; text-align:left; font-size:240%;padding:0'>📏 | Squish</h1>\n",
    "\n",
    "`Squish` is a transformation where the x-axis and y-axis values of a vector are squished through a matrix multiplication. For instance, consider a vector $\\vec{v}$ being squished by half in both axis:\n",
    "\n",
    "$$\n",
    "\\begin{array}\n",
    "    \\vec{v} = \\begin{bmatrix} 2, \\ 1 \\end{bmatrix}\n",
    "    \\quad\n",
    "    \\text{squish matrix} = \\begin{bmatrix} 0.50, \\ 0 \\\\ 0, \\ 0.50 \\end{bmatrix} \\\\\n",
    "    \\big\\downarrow \\\\\n",
    "    \\vec{v} \\cdot \\text{squish matrix} = \\begin{bmatrix} 1, \\ 0.50 \\end{bmatrix}\n",
    "\\end{array}\n",
    "$$"
   ]
  },
  {
   "cell_type": "code",
   "execution_count": 6,
   "id": "983fa23c-6705-44d6-8067-c750ae34745b",
   "metadata": {},
   "outputs": [
    {
     "data": {
      "text/plain": [
       "array([1. , 0.5])"
      ]
     },
     "execution_count": 6,
     "metadata": {},
     "output_type": "execute_result"
    }
   ],
   "source": [
    "# ---- Squish ----\n",
    "squish_matrix = np.array([[0.50, 0], [0, 0.50]])\n",
    "VECTOR @ squish_matrix"
   ]
  },
  {
   "cell_type": "markdown",
   "id": "3bfd61b6-d5d9-43f7-b1f8-edd53f56ff86",
   "metadata": {},
   "source": [
    "<h1 id='2-flip' style='color:#7159c1; border-bottom:3px solid #7159c1; letter-spacing:2px; font-family:JetBrains Mono; font-weight: bold; text-align:left; font-size:240%;padding:0'>🪙 | Flip</h1>\n",
    "\n",
    "`Flip` is a transformation where the x-axis and y-axis values of a vector are inversed through a matrix multiplication. For instance, consider a vector $\\vec{v}$ being flipped in both axis:\n",
    "\n",
    "$$\n",
    "\\begin{array}\n",
    "    \\vec{v} = \\begin{bmatrix} 2, \\ 1 \\end{bmatrix}\n",
    "    \\quad\n",
    "    \\text{flip matrix} = \\begin{bmatrix} -1, \\ 0 \\\\ 0, \\ -1 \\end{bmatrix} \\\\\n",
    "    \\big\\downarrow \\\\\n",
    "    \\vec{v} \\cdot \\text{flip matrix} = \\begin{bmatrix} -2, \\ -1 \\end{bmatrix}\n",
    "\\end{array}\n",
    "$$"
   ]
  },
  {
   "cell_type": "code",
   "execution_count": 7,
   "id": "fd0b0a66-43cd-400e-8e36-a633fbc3de89",
   "metadata": {},
   "outputs": [
    {
     "data": {
      "text/plain": [
       "array([-2, -1])"
      ]
     },
     "execution_count": 7,
     "metadata": {},
     "output_type": "execute_result"
    }
   ],
   "source": [
    "# ---- Flip ----\n",
    "flip_matrix = np.array([[-1, 0], [0, -1]])\n",
    "VECTOR @ flip_matrix"
   ]
  },
  {
   "cell_type": "markdown",
   "id": "8f9b3e31-f032-40e6-8381-9325e3f2ec3f",
   "metadata": {},
   "source": [
    "<h1 id='3-shear' style='color:#7159c1; border-bottom:3px solid #7159c1; letter-spacing:2px; font-family:JetBrains Mono; font-weight: bold; text-align:left; font-size:240%;padding:0'>🐚 | Shear</h1>\n",
    "\n",
    "`Shear` is a transformation where the x-axis and y-axis values of a vector are tilted through a matrix multiplication. It's easier to be visualized in parallelograms rather than vectors, because we can notice the parallelogram being tilted to the either left/right or up/down. For instance, consider a vector $\\vec{v}$ being tilted in both axis:\n",
    "\n",
    "$$\n",
    "\\begin{array}\n",
    "    \\vec{v} = \\begin{bmatrix} 2, \\ 1 \\end{bmatrix}\n",
    "    \\quad\n",
    "    \\text{shear matrix} = \\begin{bmatrix} 1, \\ 1 \\\\ 1, \\ 1 \\end{bmatrix} \\\\\n",
    "    \\big\\downarrow \\\\\n",
    "    \\vec{v} \\cdot \\text{shear matrix} = \\begin{bmatrix} 3, \\ 3 \\end{bmatrix}\n",
    "\\end{array}\n",
    "$$"
   ]
  },
  {
   "cell_type": "code",
   "execution_count": 8,
   "id": "df251052-e66b-4c75-a498-0ad69d6baba9",
   "metadata": {},
   "outputs": [
    {
     "data": {
      "text/plain": [
       "array([3, 3])"
      ]
     },
     "execution_count": 8,
     "metadata": {},
     "output_type": "execute_result"
    }
   ],
   "source": [
    "# ---- Shear ----\n",
    "shear_matrix = np.array([[1, 1], [1, 1]])\n",
    "VECTOR @ shear_matrix"
   ]
  },
  {
   "cell_type": "markdown",
   "id": "d10a6206-b806-4f14-bb30-b6b5b873f59e",
   "metadata": {},
   "source": [
    "<h1 id='4-rotation' style='color:#7159c1; border-bottom:3px solid #7159c1; letter-spacing:2px; font-family:JetBrains Mono; font-weight: bold; text-align:left; font-size:240%;padding:0'>⭕ | Rotation</h1>\n",
    "\n",
    "`Rotation` is a transformation where the vector is rotated by an angle `theta (θ)`. For instance, consider a vector $\\vec{v}$ being rotated in 45º:\n",
    "\n",
    "$$\n",
    "\\begin{array}\n",
    "    \\vec{v} = \\begin{bmatrix} 2, \\ 1 \\end{bmatrix}\n",
    "    \\quad\n",
    "    \\text{rotation matrix} = \\begin{bmatrix} 0.71, \\ -0.71 \\\\ 0.71, \\ 0.71 \\end{bmatrix} \\\\\n",
    "    \\big\\downarrow \\\\\n",
    "    \\vec{v} \\cdot \\text{rotation matrix} = \\begin{bmatrix} 2.1213, \\ -0.7071 \\end{bmatrix}\n",
    "\\end{array}\n",
    "$$"
   ]
  },
  {
   "cell_type": "code",
   "execution_count": 10,
   "id": "fe627c0e-49ad-48f9-b71d-3dd254e533b6",
   "metadata": {},
   "outputs": [
    {
     "data": {
      "text/plain": [
       "array([ 2.12132034, -0.70710678])"
      ]
     },
     "execution_count": 10,
     "metadata": {},
     "output_type": "execute_result"
    }
   ],
   "source": [
    "# ---- Rotation ----\n",
    "theta = np.radians(45) # 45º in radians\n",
    "rotation_matrix = np.array([[np.cos(theta), -np.sin(theta)], [np.sin(theta), np.cos(theta)]])\n",
    "VECTOR @ rotation_matrix"
   ]
  },
  {
   "cell_type": "markdown",
   "id": "0c5f51bb-ace9-463e-a0f8-f9e670e09acf",
   "metadata": {},
   "source": [
    "<h1 id='5-null' style='color:#7159c1; border-bottom:3px solid #7159c1; letter-spacing:2px; font-family:JetBrains Mono; font-weight: bold; text-align:left; font-size:240%;padding:0'>🌌 | Null</h1>\n",
    "\n",
    "`Null` is a transformation where the vector is reduced to the origin, getting both x-axis and y-axis values nullified to zero. For instance, consider a vector $\\vec{v}$ being nullified:\n",
    "\n",
    "$$\n",
    "\\begin{array}\n",
    "    \\vec{v} = \\begin{bmatrix} 2, \\ 1 \\end{bmatrix}\n",
    "    \\quad\n",
    "    \\text{null matrix} = \\begin{bmatrix} 0, \\ 0 \\\\ 0, \\ 0 \\end{bmatrix} \\\\\n",
    "    \\big\\downarrow \\\\\n",
    "    \\vec{v} \\cdot \\text{null matrix} = \\begin{bmatrix} 0, \\ 0 \\end{bmatrix}\n",
    "\\end{array}\n",
    "$$"
   ]
  },
  {
   "cell_type": "code",
   "execution_count": 11,
   "id": "a9bc9bc0-4b1a-405f-af50-e9e4f9828b3d",
   "metadata": {},
   "outputs": [
    {
     "data": {
      "text/plain": [
       "array([0, 0])"
      ]
     },
     "execution_count": 11,
     "metadata": {},
     "output_type": "execute_result"
    }
   ],
   "source": [
    "# ---- Null ----\n",
    "null_matrix = np.array([[0, 0], [0, 0]])\n",
    "VECTOR @ null_matrix"
   ]
  },
  {
   "cell_type": "markdown",
   "id": "ae8dd928-5058-4e31-a326-665462331683",
   "metadata": {},
   "source": [
    "<h1 id='6-image' style='color:#7159c1; border-bottom:3px solid #7159c1; letter-spacing:2px; font-family:JetBrains Mono; font-weight: bold; text-align:left; font-size:240%;padding:0'>🪞 | Image</h1>\n",
    "\n",
    "`Image` is a transformation where the vector is kept as-is after being multiplied by an Image Matrix, that is, a diagonal matrix with ones as the diagonal values.\n",
    "\n",
    "$$\n",
    "\\begin{array}\n",
    "    \\vec{v} = \\begin{bmatrix} 2, \\ 1 \\end{bmatrix}\n",
    "    \\quad\n",
    "    \\text{image matrix} = \\begin{bmatrix} 1, \\ 0 \\\\ 0, \\ 1 \\end{bmatrix} \\\\\n",
    "    \\big\\downarrow \\\\\n",
    "    \\vec{v} \\cdot \\text{image matrix} = \\begin{bmatrix} 2, \\ 1 \\end{bmatrix}\n",
    "\\end{array}\n",
    "$$"
   ]
  },
  {
   "cell_type": "code",
   "execution_count": 12,
   "id": "59989caa-b57d-4cad-a265-15fbc794e6e2",
   "metadata": {},
   "outputs": [
    {
     "data": {
      "text/plain": [
       "array([2, 1])"
      ]
     },
     "execution_count": 12,
     "metadata": {},
     "output_type": "execute_result"
    }
   ],
   "source": [
    "# ---- Image ----\n",
    "image_matrix = np.array([[1, 0], [0, 1]])\n",
    "VECTOR @ image_matrix"
   ]
  },
  {
   "cell_type": "markdown",
   "id": "d0ce873f-abe4-4f38-827f-1e4bb4af16c3",
   "metadata": {},
   "source": [
    "<h1 id='7-visualization' style='color:#7159c1; border-bottom:3px solid #7159c1; letter-spacing:2px; font-family:JetBrains Mono; font-weight: bold; text-align:left; font-size:240%;padding:0'>🪟 | Visualization</h1>\n",
    "\n",
    "Now, let's see a visualization of each transformation!!"
   ]
  },
  {
   "cell_type": "code",
   "execution_count": 13,
   "id": "972d072d-ecd2-438b-b98c-09c5f2e4c814",
   "metadata": {},
   "outputs": [
    {
     "data": {
      "text/html": [
       "<center><video width=\"600\" autoplay controls loop><source src=\"./videos/12-VectorTransformations.mp4\" type=\"video/mp4\" />Your browser does not support the video tag 😢</video></center>"
      ],
      "text/plain": [
       "<IPython.core.display.HTML object>"
      ]
     },
     "execution_count": 13,
     "metadata": {},
     "output_type": "execute_result"
    }
   ],
   "source": [
    "# ---- Visualization ----\n",
    "HTML(generateVideoEmbed(f'{VIDEOS_PATH}/12-VectorTransformations.mp4', VIDEOS_WIDTH))"
   ]
  },
  {
   "cell_type": "markdown",
   "id": "5dacbc9e-9fb3-489d-967e-e960cc0ecf7d",
   "metadata": {},
   "source": [
    "---\n",
    "\n",
    "<h1 id='reach-me' style='color:#7159c1; border-bottom:3px solid #7159c1; letter-spacing:2px; font-family:JetBrains Mono; font-weight: bold; text-align:left; font-size:240%;padding:0'>📫 | Reach Me</h1>\n",
    "\n",
    "> **Email** - [csfelix08@gmail.com](mailto:csfelix08@gmail.com?)\n",
    "\n",
    "> **Linkedin** - [linkedin.com/in/csfelix/](https://www.linkedin.com/in/csfelix/)\n",
    "\n",
    "> **GitHub:** - [CSFelix](https://github.com/CSFelix)\n",
    "\n",
    "> **Kaggle** - [DSFelix](https://www.kaggle.com/dsfelix)\n",
    "\n",
    "> **Portfolio** - [CSFelix.io](https://csfelix.github.io/)."
   ]
  }
 ],
 "metadata": {
  "kernelspec": {
   "display_name": "Python 3 (ipykernel)",
   "language": "python",
   "name": "python3"
  },
  "language_info": {
   "codemirror_mode": {
    "name": "ipython",
    "version": 3
   },
   "file_extension": ".py",
   "mimetype": "text/x-python",
   "name": "python",
   "nbconvert_exporter": "python",
   "pygments_lexer": "ipython3",
   "version": "3.12.7"
  }
 },
 "nbformat": 4,
 "nbformat_minor": 5
}
