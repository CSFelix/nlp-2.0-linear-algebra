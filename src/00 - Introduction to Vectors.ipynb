{
 "cells": [
  {
   "cell_type": "markdown",
   "id": "f24c64ab-e2e5-4482-ae14-583e899221a0",
   "metadata": {},
   "source": [
    "<center>    \n",
    "    <h1 id='linear-algebra-notebook-0' style='color:#7159c1; font-size:350%'>Introduction to Vectors</h1>\n",
    "    <i style='font-size:125%'>Basics of Vectors</i>\n",
    "</center>\n",
    "\n",
    "> **Topics**\n",
    "\n",
    "```\n",
    "- 📖 Vector Definition\n",
    "- 🏹 Vector Scaling\n",
    "- ⚙️ Linear Combinations and Base Vectors\n",
    "- 🟨 Spans\n",
    "- ⚙️ Linear Transformations\n",
    "```"
   ]
  },
  {
   "cell_type": "code",
   "execution_count": 2,
   "id": "d20ab88e-19e4-43d7-9a01-492f978f7940",
   "metadata": {},
   "outputs": [],
   "source": [
    "# ---- Imports ----\n",
    "from IPython.display import HTML\n",
    "\n",
    "# ---- Constants ----\n",
    "VIDEOS_WIDTH = (600)\n",
    "VIDEOS_PATH = ('./videos')\n",
    "\n",
    "# ---- Functions ----\n",
    "def generateVideoEmbed(path, width):\n",
    "    \"\"\"\n",
    "    Generates a string containing a centered video tag with a specific width and video source.\n",
    "\n",
    "    - Input:\n",
    "        / path: string;\n",
    "        / width: float.\n",
    "\n",
    "    - Output:\n",
    "        / video_tag: string.\n",
    "    \"\"\"\n",
    "    video_tag = f'<center><video width=\"{width}\" autoplay controls loop><source src=\"{path}\" type=\"video/mp4\" />Your browser does not support the video tag 😢</video></center>'\n",
    "    return video_tag"
   ]
  },
  {
   "cell_type": "markdown",
   "id": "c6a8e2e9-5ffa-4426-b8c2-f446b916f65f",
   "metadata": {},
   "source": [
    "<h1 id='0-vector-definition' style='color:#7159c1; border-bottom:3px solid #7159c1; letter-spacing:2px; font-family:JetBrains Mono; font-weight: bold; text-align:left; font-size:240%;padding:0'>📖 | Vector Definition</h1>\n",
    "\n",
    "Physicists define a vector as an arrow containing a `length` and a `direction` that always starts in the `origin [0,0]`; Programmers define a vector as a list of numbers; whereas Mathematicians define a it merging the both previous definitions. For a better understanding, let's stick with Mathematicians, so we can say that a vector is a list of numbers that forms an arrow containing a `length` and a `direction` starting always in the `origin [0,0]`.\n",
    "\n",
    "We can do operations with vectors, such as sum, multiplication by scalars, cross product, multiplication by vectors, projections and much more. For instance, given `v` and `w`:\n",
    "\n",
    "$$\n",
    "\\vec{v} = \\begin{bmatrix} x_1, \\ y_1 \\end{bmatrix}, \\quad\n",
    "\\vec{w} = \\begin{bmatrix} x_2, \\ y_2 \\end{bmatrix}\n",
    "$$\n",
    "\n",
    "Their sum is calculated by adding the `x` and `y` values respectively:\n",
    "\n",
    "$$\n",
    "\\vec{v} + \\vec{w} = \n",
    "\\begin{bmatrix} x_1 + x_2, \\ y_1 + y_2 \\end{bmatrix}\n",
    "$$\n",
    "\n",
    "The following video illustrates the operation!!"
   ]
  },
  {
   "cell_type": "code",
   "execution_count": 4,
   "id": "748c1646-cbe8-436d-a6cb-d7e92cee4df9",
   "metadata": {},
   "outputs": [
    {
     "data": {
      "text/html": [
       "<center><video width=\"600\" autoplay controls loop><source src=\"./videos/00-VectorAddition.mp4\" type=\"video/mp4\" />Your browser does not support the video tag 😢</video></center>"
      ],
      "text/plain": [
       "<IPython.core.display.HTML object>"
      ]
     },
     "execution_count": 4,
     "metadata": {},
     "output_type": "execute_result"
    }
   ],
   "source": [
    "# ---- Vector Addition ----\n",
    "HTML(generateVideoEmbed(f'{VIDEOS_PATH}/00-VectorAddition.mp4', VIDEOS_WIDTH))"
   ]
  },
  {
   "cell_type": "markdown",
   "id": "0e5de458-6db3-4a82-8279-ee4c1a3e1895",
   "metadata": {},
   "source": [
    "<h1 id='1-vector-scaling' style='color:#7159c1; border-bottom:3px solid #7159c1; letter-spacing:2px; font-family:JetBrains Mono; font-weight: bold; text-align:left; font-size:240%;padding:0'>🏹 | Vector Scaling</h1>\n",
    "\n",
    "`Scaling` consists of the multiplication of the vector by a `scalar`, that is, a constant integer or constant decimal number. When doing this operation, we can obtain one of the seven possible outputs:\n",
    "\n",
    "- **scalar > 1** - `the vector is stretched`;\n",
    "\n",
    "- **scalar == 1** - `the vector is maintained as-is`;\n",
    "\n",
    "- **0 < scalar < 1** - `the vector is squished`;\n",
    "\n",
    "- **scalar == 0** - `the vector is nullified`;\n",
    "\n",
    "- **-1 < scalar < 0** - `the vector is inversed and squished`;\n",
    "\n",
    "- **scalar == -1** - `the vector is inversed`;\n",
    "\n",
    "- **scalar < -1** - `the vector is inversed and stretched`.\n",
    "\n",
    "---\n",
    "\n",
    "So, given the vector `v`:\n",
    "\n",
    "$$\n",
    "\\vec{v} = \\begin{bmatrix} 2, \\ 3 \\end{bmatrix}\n",
    "$$\n",
    "\n",
    "Multiplying by `scalar = 2`:\n",
    "\n",
    "$$\n",
    "2 \\cdot \\vec{v} = \\begin{bmatrix} 2 \\cdot 2, \\ 2 \\cdot 3 \\end{bmatrix} =\n",
    "\\begin{bmatrix} 4, \\ 6 \\end{bmatrix}\n",
    "$$\n",
    "\n",
    "Multiplying by `scalar = 1/2`:\n",
    "\n",
    "$$\n",
    "0.50 \\cdot \\vec{v} = \\begin{bmatrix} 0.50 \\cdot 2, \\ 0.50 \\cdot 3 \\end{bmatrix} =\n",
    "\\begin{bmatrix} 1, \\ 1.50 \\end{bmatrix}\n",
    "$$\n",
    "\n",
    "Multiplying by `scalar = -2`:\n",
    "\n",
    "$$\n",
    "-2 \\cdot \\vec{v} = \\begin{bmatrix} -2 \\cdot 2, \\ -2 \\cdot 3 \\end{bmatrix} =\n",
    "\\begin{bmatrix} -4, \\ -6 \\end{bmatrix}\n",
    "$$\n",
    "\n",
    "Multiplying by `scalar = -1/2`:\n",
    "\n",
    "$$\n",
    "-0.50 \\cdot \\vec{v} = \\begin{bmatrix} -0.50 \\cdot 2, \\ -0.50 \\cdot 3 \\end{bmatrix} =\n",
    "\\begin{bmatrix} -1, \\ -1.50 \\end{bmatrix}\n",
    "$$\n",
    "\n",
    "---\n",
    "\n",
    "Let's see all those multiplications animated!!"
   ]
  },
  {
   "cell_type": "code",
   "execution_count": 5,
   "id": "4038551f-6c9a-4ad3-b4c1-cc68dd875bb5",
   "metadata": {},
   "outputs": [
    {
     "data": {
      "text/html": [
       "<center><video width=\"600\" autoplay controls loop><source src=\"./videos/01-VectorScaling.mp4\" type=\"video/mp4\" />Your browser does not support the video tag 😢</video></center>"
      ],
      "text/plain": [
       "<IPython.core.display.HTML object>"
      ]
     },
     "execution_count": 5,
     "metadata": {},
     "output_type": "execute_result"
    }
   ],
   "source": [
    "# ---- Vector Scaling ----\n",
    "HTML(generateVideoEmbed(f'{VIDEOS_PATH}/01-VectorScaling.mp4', VIDEOS_WIDTH))"
   ]
  },
  {
   "cell_type": "markdown",
   "id": "8239fb86-b835-43a3-9751-20c11c191362",
   "metadata": {},
   "source": [
    "<h1 id='2-linear-combinations-and-base-vectors' style='color:#7159c1; border-bottom:3px solid #7159c1; letter-spacing:2px; font-family:JetBrains Mono; font-weight: bold; text-align:left; font-size:240%;padding:0'>⚙️ | Linear Combinations and Base Vectors</h1>\n",
    "\n",
    "In 2-dimensional planes, we work with two axes: the `x-axis` and the `y-axis`. Each one of them contains what we call `Base Vectors`.\n",
    "\n",
    "Base Vectors are vectors with one unit of their respective axis. For instance, in x-axis we have the `i-hat` vector containing one unit on x-axis and zero units on y-axis; whereas in y-axis we have the `j-hat` vector containing zero units on x-axis and one unit on y-axis. So:\n",
    "\n",
    "$$\n",
    "\\hat{i} = \\begin{bmatrix} 1, \\ 0 \\end{bmatrix}, \\quad\n",
    "\\hat{j} = \\begin{bmatrix} 0, \\ 1 \\end{bmatrix}\n",
    "$$\n",
    "\n",
    "Given these two vectors, we can now start thinking about how all the other vectors are formed. Let's work with the following vector `v`:\n",
    "\n",
    "$$\n",
    "\\vec{v} = \\begin{bmatrix} 2, \\ 1 \\end{bmatrix}\n",
    "$$\n",
    "\n",
    "We can assume that `v` is formed by the combination of i-hat being stretched by 2 and j-hat being kept as-is:\n",
    "\n",
    "$$\n",
    "\\vec{v} = 2 \\cdot \\hat{i} + 1 \\cdot \\hat{j}\n",
    "$$\n",
    "\n",
    "These kind of combinations are known as `Linear Combinations`!!"
   ]
  },
  {
   "cell_type": "code",
   "execution_count": 6,
   "id": "8cbe7f81-1548-40dc-bb97-fdb9d5539db9",
   "metadata": {},
   "outputs": [
    {
     "data": {
      "text/html": [
       "<center><video width=\"600\" autoplay controls loop><source src=\"./videos/02-VectorComposition.mp4\" type=\"video/mp4\" />Your browser does not support the video tag 😢</video></center>"
      ],
      "text/plain": [
       "<IPython.core.display.HTML object>"
      ]
     },
     "execution_count": 6,
     "metadata": {},
     "output_type": "execute_result"
    }
   ],
   "source": [
    "# ---- Linear Combinations ----\n",
    "HTML(generateVideoEmbed(f'{VIDEOS_PATH}/02-VectorComposition.mp4', VIDEOS_WIDTH))"
   ]
  },
  {
   "cell_type": "markdown",
   "id": "4ab84a0f-4e37-4ac7-87da-f37bfe859bf3",
   "metadata": {},
   "source": [
    "<h1 id='3-spans' style='color:#7159c1; border-bottom:3px solid #7159c1; letter-spacing:2px; font-family:JetBrains Mono; font-weight: bold; text-align:left; font-size:240%;padding:0'>🟨 | Spans</h1>\n",
    "\n",
    "Going deeper in Linear Combinations, we can start thinking about all possible vectors we can produce by scaling the base vectors or even a specific one. Picture our vector `v` from the previous section:\n",
    "\n",
    "$$\n",
    "\\vec{v} = \\begin{bmatrix} 2, \\ 1 \\end{bmatrix}\n",
    "$$\n",
    "\n",
    "We can get a variety of vectors by scaling it with scalars. The combination of all possible vectors we can obtain is called `Span`!!\n",
    "\n",
    "$$\n",
    "\\text{Span}(\\vec{v}) = \\mathbf{a} \\cdot \\vec{v}\n",
    "$$"
   ]
  },
  {
   "cell_type": "code",
   "execution_count": 10,
   "id": "057a74c1-4c53-414e-b272-801a3ace8ea2",
   "metadata": {},
   "outputs": [
    {
     "data": {
      "text/html": [
       "<center><video width=\"600\" autoplay controls loop><source src=\"./videos/03-SpanOneVector.mp4\" type=\"video/mp4\" />Your browser does not support the video tag 😢</video></center>"
      ],
      "text/plain": [
       "<IPython.core.display.HTML object>"
      ]
     },
     "execution_count": 10,
     "metadata": {},
     "output_type": "execute_result"
    }
   ],
   "source": [
    "# ---- Span of One Vector ----\n",
    "HTML(generateVideoEmbed(f'{VIDEOS_PATH}/03-SpanOneVector.mp4', VIDEOS_WIDTH))"
   ]
  },
  {
   "cell_type": "markdown",
   "id": "70cf29b7-3c39-468c-b70f-61ecf247a561",
   "metadata": {},
   "source": [
    "---\n",
    "\n",
    "While the Span of a single vector corresponds to a straight line, it looks like a parallelogram when dealing with two vectors!!\n",
    "\n",
    "By the way, the Span of two vectors is given by the sum of the multiplication of the vectors by scalars:\n",
    "\n",
    "$$\n",
    "\\text{Span}(\\vec{v}, \\vec{w}) = \\mathbf{a} \\cdot \\vec{v} + \\mathbf{b} \\cdot \\vec{w}\n",
    "$$"
   ]
  },
  {
   "cell_type": "code",
   "execution_count": 8,
   "id": "994ebead-84f5-422a-bf50-2063593df4e8",
   "metadata": {},
   "outputs": [
    {
     "data": {
      "text/html": [
       "<center><video width=\"600\" autoplay controls loop><source src=\"./videos/04-SpanTwoVectors.mp4\" type=\"video/mp4\" />Your browser does not support the video tag 😢</video></center>"
      ],
      "text/plain": [
       "<IPython.core.display.HTML object>"
      ]
     },
     "execution_count": 8,
     "metadata": {},
     "output_type": "execute_result"
    }
   ],
   "source": [
    "# ---- Span of Two Vectors ----\n",
    "HTML(generateVideoEmbed(f'{VIDEOS_PATH}/04-SpanTwoVectors.mp4', VIDEOS_WIDTH))"
   ]
  },
  {
   "cell_type": "markdown",
   "id": "349c3fee-478a-4a12-9223-90e027e8700e",
   "metadata": {},
   "source": [
    "<h1 id='4-linear-transformations' style='color:#7159c1; border-bottom:3px solid #7159c1; letter-spacing:2px; font-family:JetBrains Mono; font-weight: bold; text-align:left; font-size:240%;padding:0'>⚙️ | Linear Transformations</h1>\n",
    "\n",
    "When applying transformation functions to vectors or to the plane, we sometimes desire to do a `Linear Transformation`. In order to do it, our functions must obbey two rules:\n",
    "\n",
    "- **Rule #1** - `all lines must continue being lines`;\n",
    "\n",
    "- **Rule #2** - `the origin [0,0] must be kept fixed in the same position`.\n",
    "\n",
    "Let's see an example of a `Non-Linear Transformation` being applied to the whole plane, dissobeying the both rules:"
   ]
  },
  {
   "cell_type": "code",
   "execution_count": 12,
   "id": "02d5b019-6fae-4f11-9dc8-02202ec14daa",
   "metadata": {},
   "outputs": [
    {
     "data": {
      "text/html": [
       "<center><video width=\"600\" autoplay controls loop><source src=\"./videos/05-NonLinearTransformation.mp4\" type=\"video/mp4\" />Your browser does not support the video tag 😢</video></center>"
      ],
      "text/plain": [
       "<IPython.core.display.HTML object>"
      ]
     },
     "execution_count": 12,
     "metadata": {},
     "output_type": "execute_result"
    }
   ],
   "source": [
    "# ---- Non-Linear Transformation ----\n",
    "HTML(generateVideoEmbed(f'{VIDEOS_PATH}/05-NonLinearTransformation.mp4', VIDEOS_WIDTH))"
   ]
  },
  {
   "cell_type": "markdown",
   "id": "c0c47446-9204-42c4-94f7-53ce7ea59f2b",
   "metadata": {},
   "source": [
    "---\n",
    "\n",
    "About Linear Transformation, we have seen already one of the most common ones: multiplication by scalars!!\n",
    "\n",
    "Notice in the animation below, where we simple multiply i-hat by -1 and j-hat by 2, all lines were kept lines and the origin were kept fixed in its position!!"
   ]
  },
  {
   "cell_type": "code",
   "execution_count": 13,
   "id": "b63cdf02-560a-4cde-9be5-30e7688499d4",
   "metadata": {},
   "outputs": [
    {
     "data": {
      "text/html": [
       "<center><video width=\"600\" autoplay controls loop><source src=\"./videos/06-VectorTransformation.mp4\" type=\"video/mp4\" />Your browser does not support the video tag 😢</video></center>"
      ],
      "text/plain": [
       "<IPython.core.display.HTML object>"
      ]
     },
     "execution_count": 13,
     "metadata": {},
     "output_type": "execute_result"
    }
   ],
   "source": [
    "# ---- Vector Transformation ----\n",
    "HTML(generateVideoEmbed(f'{VIDEOS_PATH}/06-VectorTransformation.mp4', VIDEOS_WIDTH))"
   ]
  },
  {
   "cell_type": "markdown",
   "id": "b35c3c9a-bfe0-41c4-a85e-87254fd45f26",
   "metadata": {},
   "source": [
    "---\n",
    "\n",
    "<h1 id='reach-me' style='color:#7159c1; border-bottom:3px solid #7159c1; letter-spacing:2px; font-family:JetBrains Mono; font-weight: bold; text-align:left; font-size:240%;padding:0'>📫 | Reach Me</h1>\n",
    "\n",
    "> **Email** - [csfelix08@gmail.com](mailto:csfelix08@gmail.com?)\n",
    "\n",
    "> **Linkedin** - [linkedin.com/in/csfelix/](https://www.linkedin.com/in/csfelix/)\n",
    "\n",
    "> **GitHub:** - [CSFelix](https://github.com/CSFelix)\n",
    "\n",
    "> **Kaggle** - [DSFelix](https://www.kaggle.com/dsfelix)\n",
    "\n",
    "> **Portfolio** - [CSFelix.io](https://csfelix.github.io/)."
   ]
  }
 ],
 "metadata": {
  "kernelspec": {
   "display_name": "Python 3 (ipykernel)",
   "language": "python",
   "name": "python3"
  },
  "language_info": {
   "codemirror_mode": {
    "name": "ipython",
    "version": 3
   },
   "file_extension": ".py",
   "mimetype": "text/x-python",
   "name": "python",
   "nbconvert_exporter": "python",
   "pygments_lexer": "ipython3",
   "version": "3.12.7"
  }
 },
 "nbformat": 4,
 "nbformat_minor": 5
}
